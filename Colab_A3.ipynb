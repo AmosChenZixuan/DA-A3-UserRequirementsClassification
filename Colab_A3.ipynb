{
  "cells": [
    {
      "cell_type": "markdown",
      "metadata": {
        "id": "view-in-github",
        "colab_type": "text"
      },
      "source": [
        "<a href=\"https://colab.research.google.com/github/AmosChenZixuan/DS-A3-UserRequirementsClassification/blob/main/Colab_A3.ipynb\" target=\"_parent\"><img src=\"https://colab.research.google.com/assets/colab-badge.svg\" alt=\"Open In Colab\"/></a>"
      ]
    },
    {
      "cell_type": "code",
      "execution_count": 1,
      "metadata": {
        "colab": {
          "base_uri": "https://localhost:8080/"
        },
        "id": "_noIYtL066aX",
        "outputId": "c0cc3d60-2969-4dc6-b578-c420fa7fcdf9"
      },
      "outputs": [
        {
          "output_type": "stream",
          "name": "stdout",
          "text": [
            "Cloning into 'DS-A3-UserRequirementsClassification'...\n",
            "remote: Enumerating objects: 106, done.\u001b[K\n",
            "remote: Counting objects: 100% (106/106), done.\u001b[K\n",
            "remote: Compressing objects: 100% (74/74), done.\u001b[K\n",
            "remote: Total 106 (delta 50), reused 82 (delta 30), pack-reused 0\u001b[K\n",
            "Receiving objects: 100% (106/106), 2.02 MiB | 3.82 MiB/s, done.\n",
            "Resolving deltas: 100% (50/50), done.\n"
          ]
        }
      ],
      "source": [
        "!git clone https://github.com/AmosChenZixuan/DS-A3-UserRequirementsClassification.git"
      ]
    },
    {
      "cell_type": "code",
      "execution_count": 2,
      "metadata": {
        "colab": {
          "base_uri": "https://localhost:8080/"
        },
        "id": "WJ0MhW4vAkm2",
        "outputId": "8d639614-5545-46c9-af6d-ec0d0a41a444"
      },
      "outputs": [
        {
          "output_type": "stream",
          "name": "stdout",
          "text": [
            "Looking in indexes: https://pypi.org/simple, https://us-python.pkg.dev/colab-wheels/public/simple/\n",
            "Collecting contractions\n",
            "  Downloading contractions-0.1.73-py2.py3-none-any.whl (8.7 kB)\n",
            "Collecting textsearch>=0.0.21\n",
            "  Downloading textsearch-0.0.24-py2.py3-none-any.whl (7.6 kB)\n",
            "Collecting pyahocorasick\n",
            "  Downloading pyahocorasick-1.4.4-cp37-cp37m-manylinux_2_17_x86_64.manylinux2014_x86_64.whl (106 kB)\n",
            "\u001b[K     |████████████████████████████████| 106 kB 14.6 MB/s \n",
            "\u001b[?25hCollecting anyascii\n",
            "  Downloading anyascii-0.3.1-py3-none-any.whl (287 kB)\n",
            "\u001b[K     |████████████████████████████████| 287 kB 17.1 MB/s \n",
            "\u001b[?25hInstalling collected packages: pyahocorasick, anyascii, textsearch, contractions\n",
            "Successfully installed anyascii-0.3.1 contractions-0.1.73 pyahocorasick-1.4.4 textsearch-0.0.24\n",
            "Looking in indexes: https://pypi.org/simple, https://us-python.pkg.dev/colab-wheels/public/simple/\n",
            "Requirement already satisfied: nltk in /usr/local/lib/python3.7/dist-packages (3.7)\n",
            "Requirement already satisfied: click in /usr/local/lib/python3.7/dist-packages (from nltk) (7.1.2)\n",
            "Requirement already satisfied: tqdm in /usr/local/lib/python3.7/dist-packages (from nltk) (4.64.1)\n",
            "Requirement already satisfied: joblib in /usr/local/lib/python3.7/dist-packages (from nltk) (1.2.0)\n",
            "Requirement already satisfied: regex>=2021.8.3 in /usr/local/lib/python3.7/dist-packages (from nltk) (2022.6.2)\n"
          ]
        },
        {
          "output_type": "stream",
          "name": "stderr",
          "text": [
            "[nltk_data] Downloading package omw-1.4 to /root/nltk_data...\n",
            "[nltk_data] Downloading package wordnet to /root/nltk_data...\n",
            "[nltk_data] Downloading package stopwords to /root/nltk_data...\n",
            "[nltk_data]   Unzipping corpora/stopwords.zip.\n"
          ]
        },
        {
          "output_type": "stream",
          "name": "stdout",
          "text": [
            "Looking in indexes: https://pypi.org/simple, https://us-python.pkg.dev/colab-wheels/public/simple/\n",
            "Requirement already satisfied: spacy in /usr/local/lib/python3.7/dist-packages (3.4.3)\n",
            "Requirement already satisfied: jinja2 in /usr/local/lib/python3.7/dist-packages (from spacy) (2.11.3)\n",
            "Requirement already satisfied: cymem<2.1.0,>=2.0.2 in /usr/local/lib/python3.7/dist-packages (from spacy) (2.0.7)\n",
            "Requirement already satisfied: tqdm<5.0.0,>=4.38.0 in /usr/local/lib/python3.7/dist-packages (from spacy) (4.64.1)\n",
            "Requirement already satisfied: typing-extensions<4.2.0,>=3.7.4 in /usr/local/lib/python3.7/dist-packages (from spacy) (4.1.1)\n",
            "Requirement already satisfied: setuptools in /usr/local/lib/python3.7/dist-packages (from spacy) (57.4.0)\n",
            "Requirement already satisfied: spacy-loggers<2.0.0,>=1.0.0 in /usr/local/lib/python3.7/dist-packages (from spacy) (1.0.3)\n",
            "Requirement already satisfied: murmurhash<1.1.0,>=0.28.0 in /usr/local/lib/python3.7/dist-packages (from spacy) (1.0.9)\n",
            "Requirement already satisfied: requests<3.0.0,>=2.13.0 in /usr/local/lib/python3.7/dist-packages (from spacy) (2.23.0)\n",
            "Requirement already satisfied: pathy>=0.3.5 in /usr/local/lib/python3.7/dist-packages (from spacy) (0.8.1)\n",
            "Requirement already satisfied: packaging>=20.0 in /usr/local/lib/python3.7/dist-packages (from spacy) (21.3)\n",
            "Requirement already satisfied: typer<0.8.0,>=0.3.0 in /usr/local/lib/python3.7/dist-packages (from spacy) (0.7.0)\n",
            "Requirement already satisfied: spacy-legacy<3.1.0,>=3.0.10 in /usr/local/lib/python3.7/dist-packages (from spacy) (3.0.10)\n",
            "Requirement already satisfied: srsly<3.0.0,>=2.4.3 in /usr/local/lib/python3.7/dist-packages (from spacy) (2.4.5)\n",
            "Requirement already satisfied: catalogue<2.1.0,>=2.0.6 in /usr/local/lib/python3.7/dist-packages (from spacy) (2.0.8)\n",
            "Requirement already satisfied: wasabi<1.1.0,>=0.9.1 in /usr/local/lib/python3.7/dist-packages (from spacy) (0.10.1)\n",
            "Requirement already satisfied: numpy>=1.15.0 in /usr/local/lib/python3.7/dist-packages (from spacy) (1.21.6)\n",
            "Requirement already satisfied: preshed<3.1.0,>=3.0.2 in /usr/local/lib/python3.7/dist-packages (from spacy) (3.0.8)\n",
            "Requirement already satisfied: pydantic!=1.8,!=1.8.1,<1.11.0,>=1.7.4 in /usr/local/lib/python3.7/dist-packages (from spacy) (1.10.2)\n",
            "Requirement already satisfied: langcodes<4.0.0,>=3.2.0 in /usr/local/lib/python3.7/dist-packages (from spacy) (3.3.0)\n",
            "Requirement already satisfied: thinc<8.2.0,>=8.1.0 in /usr/local/lib/python3.7/dist-packages (from spacy) (8.1.5)\n",
            "Requirement already satisfied: zipp>=0.5 in /usr/local/lib/python3.7/dist-packages (from catalogue<2.1.0,>=2.0.6->spacy) (3.10.0)\n",
            "Requirement already satisfied: pyparsing!=3.0.5,>=2.0.2 in /usr/local/lib/python3.7/dist-packages (from packaging>=20.0->spacy) (3.0.9)\n",
            "Requirement already satisfied: smart-open<6.0.0,>=5.2.1 in /usr/local/lib/python3.7/dist-packages (from pathy>=0.3.5->spacy) (5.2.1)\n",
            "Requirement already satisfied: urllib3!=1.25.0,!=1.25.1,<1.26,>=1.21.1 in /usr/local/lib/python3.7/dist-packages (from requests<3.0.0,>=2.13.0->spacy) (1.24.3)\n",
            "Requirement already satisfied: idna<3,>=2.5 in /usr/local/lib/python3.7/dist-packages (from requests<3.0.0,>=2.13.0->spacy) (2.10)\n",
            "Requirement already satisfied: certifi>=2017.4.17 in /usr/local/lib/python3.7/dist-packages (from requests<3.0.0,>=2.13.0->spacy) (2022.9.24)\n",
            "Requirement already satisfied: chardet<4,>=3.0.2 in /usr/local/lib/python3.7/dist-packages (from requests<3.0.0,>=2.13.0->spacy) (3.0.4)\n",
            "Requirement already satisfied: confection<1.0.0,>=0.0.1 in /usr/local/lib/python3.7/dist-packages (from thinc<8.2.0,>=8.1.0->spacy) (0.0.3)\n",
            "Requirement already satisfied: blis<0.8.0,>=0.7.8 in /usr/local/lib/python3.7/dist-packages (from thinc<8.2.0,>=8.1.0->spacy) (0.7.9)\n",
            "Requirement already satisfied: click<9.0.0,>=7.1.1 in /usr/local/lib/python3.7/dist-packages (from typer<0.8.0,>=0.3.0->spacy) (7.1.2)\n",
            "Requirement already satisfied: MarkupSafe>=0.23 in /usr/local/lib/python3.7/dist-packages (from jinja2->spacy) (2.0.1)\n",
            "Looking in indexes: https://pypi.org/simple, https://us-python.pkg.dev/colab-wheels/public/simple/\n",
            "Collecting en-core-web-md==3.4.1\n",
            "  Downloading https://github.com/explosion/spacy-models/releases/download/en_core_web_md-3.4.1/en_core_web_md-3.4.1-py3-none-any.whl (42.8 MB)\n",
            "\u001b[K     |████████████████████████████████| 42.8 MB 1.2 MB/s \n",
            "\u001b[?25hRequirement already satisfied: spacy<3.5.0,>=3.4.0 in /usr/local/lib/python3.7/dist-packages (from en-core-web-md==3.4.1) (3.4.3)\n",
            "Requirement already satisfied: setuptools in /usr/local/lib/python3.7/dist-packages (from spacy<3.5.0,>=3.4.0->en-core-web-md==3.4.1) (57.4.0)\n",
            "Requirement already satisfied: preshed<3.1.0,>=3.0.2 in /usr/local/lib/python3.7/dist-packages (from spacy<3.5.0,>=3.4.0->en-core-web-md==3.4.1) (3.0.8)\n",
            "Requirement already satisfied: typing-extensions<4.2.0,>=3.7.4 in /usr/local/lib/python3.7/dist-packages (from spacy<3.5.0,>=3.4.0->en-core-web-md==3.4.1) (4.1.1)\n",
            "Requirement already satisfied: wasabi<1.1.0,>=0.9.1 in /usr/local/lib/python3.7/dist-packages (from spacy<3.5.0,>=3.4.0->en-core-web-md==3.4.1) (0.10.1)\n",
            "Requirement already satisfied: pydantic!=1.8,!=1.8.1,<1.11.0,>=1.7.4 in /usr/local/lib/python3.7/dist-packages (from spacy<3.5.0,>=3.4.0->en-core-web-md==3.4.1) (1.10.2)\n",
            "Requirement already satisfied: langcodes<4.0.0,>=3.2.0 in /usr/local/lib/python3.7/dist-packages (from spacy<3.5.0,>=3.4.0->en-core-web-md==3.4.1) (3.3.0)\n",
            "Requirement already satisfied: tqdm<5.0.0,>=4.38.0 in /usr/local/lib/python3.7/dist-packages (from spacy<3.5.0,>=3.4.0->en-core-web-md==3.4.1) (4.64.1)\n",
            "Requirement already satisfied: jinja2 in /usr/local/lib/python3.7/dist-packages (from spacy<3.5.0,>=3.4.0->en-core-web-md==3.4.1) (2.11.3)\n",
            "Requirement already satisfied: packaging>=20.0 in /usr/local/lib/python3.7/dist-packages (from spacy<3.5.0,>=3.4.0->en-core-web-md==3.4.1) (21.3)\n",
            "Requirement already satisfied: cymem<2.1.0,>=2.0.2 in /usr/local/lib/python3.7/dist-packages (from spacy<3.5.0,>=3.4.0->en-core-web-md==3.4.1) (2.0.7)\n",
            "Requirement already satisfied: srsly<3.0.0,>=2.4.3 in /usr/local/lib/python3.7/dist-packages (from spacy<3.5.0,>=3.4.0->en-core-web-md==3.4.1) (2.4.5)\n",
            "Requirement already satisfied: catalogue<2.1.0,>=2.0.6 in /usr/local/lib/python3.7/dist-packages (from spacy<3.5.0,>=3.4.0->en-core-web-md==3.4.1) (2.0.8)\n",
            "Requirement already satisfied: numpy>=1.15.0 in /usr/local/lib/python3.7/dist-packages (from spacy<3.5.0,>=3.4.0->en-core-web-md==3.4.1) (1.21.6)\n",
            "Requirement already satisfied: thinc<8.2.0,>=8.1.0 in /usr/local/lib/python3.7/dist-packages (from spacy<3.5.0,>=3.4.0->en-core-web-md==3.4.1) (8.1.5)\n",
            "Requirement already satisfied: pathy>=0.3.5 in /usr/local/lib/python3.7/dist-packages (from spacy<3.5.0,>=3.4.0->en-core-web-md==3.4.1) (0.8.1)\n",
            "Requirement already satisfied: requests<3.0.0,>=2.13.0 in /usr/local/lib/python3.7/dist-packages (from spacy<3.5.0,>=3.4.0->en-core-web-md==3.4.1) (2.23.0)\n",
            "Requirement already satisfied: spacy-legacy<3.1.0,>=3.0.10 in /usr/local/lib/python3.7/dist-packages (from spacy<3.5.0,>=3.4.0->en-core-web-md==3.4.1) (3.0.10)\n",
            "Requirement already satisfied: murmurhash<1.1.0,>=0.28.0 in /usr/local/lib/python3.7/dist-packages (from spacy<3.5.0,>=3.4.0->en-core-web-md==3.4.1) (1.0.9)\n",
            "Requirement already satisfied: spacy-loggers<2.0.0,>=1.0.0 in /usr/local/lib/python3.7/dist-packages (from spacy<3.5.0,>=3.4.0->en-core-web-md==3.4.1) (1.0.3)\n",
            "Requirement already satisfied: typer<0.8.0,>=0.3.0 in /usr/local/lib/python3.7/dist-packages (from spacy<3.5.0,>=3.4.0->en-core-web-md==3.4.1) (0.7.0)\n",
            "Requirement already satisfied: zipp>=0.5 in /usr/local/lib/python3.7/dist-packages (from catalogue<2.1.0,>=2.0.6->spacy<3.5.0,>=3.4.0->en-core-web-md==3.4.1) (3.10.0)\n",
            "Requirement already satisfied: pyparsing!=3.0.5,>=2.0.2 in /usr/local/lib/python3.7/dist-packages (from packaging>=20.0->spacy<3.5.0,>=3.4.0->en-core-web-md==3.4.1) (3.0.9)\n",
            "Requirement already satisfied: smart-open<6.0.0,>=5.2.1 in /usr/local/lib/python3.7/dist-packages (from pathy>=0.3.5->spacy<3.5.0,>=3.4.0->en-core-web-md==3.4.1) (5.2.1)\n",
            "Requirement already satisfied: chardet<4,>=3.0.2 in /usr/local/lib/python3.7/dist-packages (from requests<3.0.0,>=2.13.0->spacy<3.5.0,>=3.4.0->en-core-web-md==3.4.1) (3.0.4)\n",
            "Requirement already satisfied: certifi>=2017.4.17 in /usr/local/lib/python3.7/dist-packages (from requests<3.0.0,>=2.13.0->spacy<3.5.0,>=3.4.0->en-core-web-md==3.4.1) (2022.9.24)\n",
            "Requirement already satisfied: urllib3!=1.25.0,!=1.25.1,<1.26,>=1.21.1 in /usr/local/lib/python3.7/dist-packages (from requests<3.0.0,>=2.13.0->spacy<3.5.0,>=3.4.0->en-core-web-md==3.4.1) (1.24.3)\n",
            "Requirement already satisfied: idna<3,>=2.5 in /usr/local/lib/python3.7/dist-packages (from requests<3.0.0,>=2.13.0->spacy<3.5.0,>=3.4.0->en-core-web-md==3.4.1) (2.10)\n",
            "Requirement already satisfied: blis<0.8.0,>=0.7.8 in /usr/local/lib/python3.7/dist-packages (from thinc<8.2.0,>=8.1.0->spacy<3.5.0,>=3.4.0->en-core-web-md==3.4.1) (0.7.9)\n",
            "Requirement already satisfied: confection<1.0.0,>=0.0.1 in /usr/local/lib/python3.7/dist-packages (from thinc<8.2.0,>=8.1.0->spacy<3.5.0,>=3.4.0->en-core-web-md==3.4.1) (0.0.3)\n",
            "Requirement already satisfied: click<9.0.0,>=7.1.1 in /usr/local/lib/python3.7/dist-packages (from typer<0.8.0,>=0.3.0->spacy<3.5.0,>=3.4.0->en-core-web-md==3.4.1) (7.1.2)\n",
            "Requirement already satisfied: MarkupSafe>=0.23 in /usr/local/lib/python3.7/dist-packages (from jinja2->spacy<3.5.0,>=3.4.0->en-core-web-md==3.4.1) (2.0.1)\n",
            "Installing collected packages: en-core-web-md\n",
            "Successfully installed en-core-web-md-3.4.1\n",
            "\u001b[38;5;2m✔ Download and installation successful\u001b[0m\n",
            "You can now load the package via spacy.load('en_core_web_md')\n"
          ]
        }
      ],
      "source": [
        "!pip install contractions\n",
        "!pip install nltk\n",
        "import nltk\n",
        "nltk.download('omw-1.4')\n",
        "# Downloading wordnet from NLTK\n",
        "nltk.download('wordnet')\n",
        "nltk.download('stopwords')\n",
        "\n",
        "!pip install spacy\n",
        "!python -m spacy download en_core_web_md"
      ]
    },
    {
      "cell_type": "code",
      "execution_count": 3,
      "metadata": {
        "id": "DpbR012RAGpE"
      },
      "outputs": [],
      "source": [
        "import os\n",
        "if os.getcwd() == '/content':\n",
        "  os.chdir('DS-A3-UserRequirementsClassification')"
      ]
    },
    {
      "cell_type": "code",
      "execution_count": 4,
      "metadata": {
        "id": "Llex_Fsw_-_j"
      },
      "outputs": [],
      "source": [
        "from utils import DataLoader, Metrics \n",
        "from classifiers import RandomForest, LSVM, XGBoost"
      ]
    },
    {
      "cell_type": "code",
      "source": [
        "def train_models(X_train, X_test, y_train, y_test):\n",
        "  ''' \n",
        "    Due to limited resource in Colab, we are not performing paramter search.\n",
        "    Therefore, instead of 'model_selection', we just call the 'default_model'\n",
        "    \n",
        "  '''\n",
        "  clfs = [LSVM, RandomForest, XGBoost]\n",
        "  for clf in clfs:\n",
        "      print(f\"========================= {clf.__name__} =========================\")\n",
        "      model = clf()\n",
        "      #model.model_selection(X_train, y_train)\n",
        "      model.default_model(X_train, y_train)\n",
        "      print(model.clf)\n",
        "\n",
        "      Metrics.report(model, X_train, X_test, y_train, y_test)\n",
        "      #pred = model.predict(X_test)\n",
        "      #Metrics.plot_confusion_matrix(y_test, pred, data.labels)"
      ],
      "metadata": {
        "id": "zEM4GnRDRJkj"
      },
      "execution_count": 5,
      "outputs": []
    },
    {
      "cell_type": "markdown",
      "metadata": {
        "id": "hkpi_nRWHd7O"
      },
      "source": [
        "# Setting 1: BOW - stopwords"
      ]
    },
    {
      "cell_type": "code",
      "execution_count": 6,
      "metadata": {
        "colab": {
          "base_uri": "https://localhost:8080/"
        },
        "id": "5VxNFJ7hB90_",
        "outputId": "45c603f6-303a-4da1-d2e4-132c90ea13cb"
      },
      "outputs": [
        {
          "output_type": "stream",
          "name": "stdout",
          "text": [
            "(1092, 270) (193, 270)\n",
            "========================= LSVM =========================\n",
            "Elapsed Time: 0.0295 seconds\n",
            "LinearSVC(dual=False)\n",
            "Train Accuracy: 0.8086, F1: [0.8277 0.7679 0.8129 0.8165]\n",
            "Test  Accuracy: 0.5855, F1: [0.6838 0.5205 0.5688 0.5287]\n",
            "========================= RandomForest =========================\n",
            "Elapsed Time: 0.4735 seconds\n",
            "RandomForestClassifier()\n",
            "Train Accuracy: 0.9844, F1: [0.9915 0.9978 0.974  0.9767]\n",
            "Test  Accuracy: 0.5907, F1: [0.656  0.4865 0.5962 0.5783]\n",
            "========================= XGBoost =========================\n",
            "Elapsed Time: 2.6629 seconds\n",
            "XGBClassifier(objective='multi:softprob')\n",
            "Train Accuracy: 0.7912, F1: [0.8307 0.7837 0.7808 0.7684]\n",
            "Test  Accuracy: 0.6062, F1: [0.661  0.5135 0.6609 0.5316]\n"
          ]
        }
      ],
      "source": [
        "fields = ['comment', \\\n",
        "      #'rating', 'past', 'future', 'length_words', \\\n",
        "      #'sentiScore', \\\n",
        "      #'sentiScore_pos', 'sentiScore_neg', \\\n",
        "      'label']\n",
        "\n",
        "data = DataLoader(fields, vectorizer='tfidf', ngram_range=(1,1), stopwords=False)\n",
        "X_train, X_test, y_train, y_test = data.datasets\n",
        "print(X_train.shape, X_test.shape)\n",
        "\n",
        "train_models(X_train, X_test, y_train, y_test)"
      ]
    },
    {
      "cell_type": "markdown",
      "metadata": {
        "id": "_80CUsR0HZZk"
      },
      "source": [
        "# Setting 2: BOW + bigram - stopwords"
      ]
    },
    {
      "cell_type": "code",
      "execution_count": 7,
      "metadata": {
        "colab": {
          "base_uri": "https://localhost:8080/"
        },
        "id": "fepJtS8qHFr3",
        "outputId": "287ea6a4-88c1-4660-c097-643a8298fa8f"
      },
      "outputs": [
        {
          "output_type": "stream",
          "name": "stdout",
          "text": [
            "(1092, 288) (193, 288)\n",
            "========================= LSVM =========================\n",
            "Elapsed Time: 0.0151 seconds\n",
            "LinearSVC(dual=False)\n",
            "Train Accuracy: 0.8178, F1: [0.8353 0.7865 0.8221 0.8193]\n",
            "Test  Accuracy: 0.6062, F1: [0.6667 0.5526 0.5818 0.6047]\n",
            "========================= RandomForest =========================\n",
            "Elapsed Time: 0.7683 seconds\n",
            "RandomForestClassifier()\n",
            "Train Accuracy: 0.9844, F1: [0.9915 0.9978 0.9739 0.9767]\n",
            "Test  Accuracy: 0.6321, F1: [0.6875 0.4545 0.6667 0.6437]\n",
            "========================= XGBoost =========================\n",
            "Elapsed Time: 3.8296 seconds\n",
            "XGBClassifier(objective='multi:softprob')\n",
            "Train Accuracy: 0.7976, F1: [0.8351 0.7923 0.7948 0.7663]\n",
            "Test  Accuracy: 0.6062, F1: [0.6838 0.5526 0.6154 0.5263]\n"
          ]
        }
      ],
      "source": [
        "fields = ['comment', \\\n",
        "      #'rating', 'past', 'future', 'length_words', \\\n",
        "      #'sentiScore', \\\n",
        "      #'sentiScore_pos', 'sentiScore_neg', \\\n",
        "      'label']\n",
        "\n",
        "data = DataLoader(fields, vectorizer='tfidf', ngram_range=(1,2), stopwords=False)\n",
        "X_train, X_test, y_train, y_test = data.datasets\n",
        "print(X_train.shape, X_test.shape)\n",
        "\n",
        "train_models(X_train, X_test, y_train, y_test)"
      ]
    },
    {
      "cell_type": "markdown",
      "metadata": {
        "id": "I1Cnv2BMHjf2"
      },
      "source": [
        "# Setting 3: NLP - stopwords"
      ]
    },
    {
      "cell_type": "code",
      "execution_count": 8,
      "metadata": {
        "id": "QB5Qx_5vHq5u",
        "colab": {
          "base_uri": "https://localhost:8080/"
        },
        "outputId": "44e82aa0-0500-40f7-9931-b4719102c828"
      },
      "outputs": [
        {
          "output_type": "stream",
          "name": "stdout",
          "text": [
            "(1092, 300) (193, 300)\n",
            "========================= LSVM =========================\n",
            "Elapsed Time: 2.2843 seconds\n",
            "LinearSVC(dual=False)\n",
            "Train Accuracy: 0.891, F1: [0.8671 0.8293 0.9326 0.9242]\n",
            "Test  Accuracy: 0.513, F1: [0.5806 0.3721 0.5349 0.5333]\n",
            "========================= RandomForest =========================\n",
            "Elapsed Time: 1.1629 seconds\n",
            "RandomForestClassifier()\n",
            "Train Accuracy: 0.9954, F1: [0.9949 1.     0.9929 0.9947]\n",
            "Test  Accuracy: 0.601, F1: [0.6316 0.3492 0.7059 0.6136]\n",
            "========================= XGBoost =========================\n",
            "Elapsed Time: 7.3299 seconds\n",
            "XGBClassifier(objective='multi:softprob')\n",
            "Train Accuracy: 0.9725, F1: [0.9783 0.9716 0.9711 0.9686]\n",
            "Test  Accuracy: 0.5803, F1: [0.6179 0.4    0.68   0.5682]\n"
          ]
        }
      ],
      "source": [
        "fields = ['comment', \\\n",
        "      #'rating', 'past', 'future', 'length_words', \\\n",
        "      #'sentiScore', \\\n",
        "      #'sentiScore_pos', 'sentiScore_neg', \\\n",
        "      'label']\n",
        "\n",
        "data = DataLoader(fields, vectorizer='nlp', stopwords=False)\n",
        "X_train, X_test, y_train, y_test = data.datasets\n",
        "print(X_train.shape, X_test.shape)\n",
        "\n",
        "train_models(X_train, X_test, y_train, y_test)"
      ]
    },
    {
      "cell_type": "markdown",
      "source": [
        "# Setting 4: BOW - stopwords + rating + tense + scaled(length) + sentiment"
      ],
      "metadata": {
        "id": "E5umUuPVRZie"
      }
    },
    {
      "cell_type": "code",
      "source": [
        "fields = ['comment', \\\n",
        "      'rating', 'past', 'future', 'length_words', \\\n",
        "      'sentiScore', \\\n",
        "      #'sentiScore_pos', 'sentiScore_neg', \\\n",
        "      'label']\n",
        "\n",
        "data = DataLoader(fields, vectorizer='tfidf', ngram_range=(1,1), stopwords=False)\n",
        "X_train, X_test, y_train, y_test = data.datasets\n",
        "print(X_train.shape, X_test.shape)\n",
        "\n",
        "train_models(X_train, X_test, y_train, y_test)"
      ],
      "metadata": {
        "colab": {
          "base_uri": "https://localhost:8080/"
        },
        "id": "2slIWrNpRijG",
        "outputId": "f7fb3666-5976-4389-a2d6-70f019e7acd2"
      },
      "execution_count": 9,
      "outputs": [
        {
          "output_type": "stream",
          "name": "stdout",
          "text": [
            "(1092, 275) (193, 275)\n",
            "========================= LSVM =========================\n",
            "Elapsed Time: 0.0371 seconds\n",
            "LinearSVC(dual=False)\n",
            "Train Accuracy: 0.8425, F1: [0.8428 0.7919 0.8415 0.8827]\n",
            "Test  Accuracy: 0.6425, F1: [0.7478 0.5278 0.6055 0.6444]\n",
            "========================= RandomForest =========================\n",
            "Elapsed Time: 0.3818 seconds\n",
            "RandomForestClassifier()\n",
            "Train Accuracy: 0.9991, F1: [0.9983 1.     1.     0.9982]\n",
            "Test  Accuracy: 0.6477, F1: [0.7068 0.4127 0.6667 0.7021]\n",
            "========================= XGBoost =========================\n",
            "Elapsed Time: 2.2726 seconds\n",
            "XGBClassifier(objective='multi:softprob')\n",
            "Train Accuracy: 0.8049, F1: [0.8303 0.8046 0.7744 0.8071]\n",
            "Test  Accuracy: 0.658, F1: [0.7213 0.5195 0.6526 0.6957]\n"
          ]
        }
      ]
    },
    {
      "cell_type": "markdown",
      "metadata": {
        "id": "TUH3-IEYHwa-"
      },
      "source": [
        "# Setting 5: BOW + bigram - stopwords + rating + tense + scaled(length) + sentiment"
      ]
    },
    {
      "cell_type": "code",
      "execution_count": 10,
      "metadata": {
        "id": "Udktb-S2Ig6u",
        "colab": {
          "base_uri": "https://localhost:8080/"
        },
        "outputId": "68108bc7-ca11-4aa7-8cad-c1a398f1c91a"
      },
      "outputs": [
        {
          "output_type": "stream",
          "name": "stdout",
          "text": [
            "(1092, 293) (193, 293)\n",
            "========================= LSVM =========================\n",
            "Elapsed Time: 0.0393 seconds\n",
            "LinearSVC(dual=False)\n",
            "Train Accuracy: 0.8452, F1: [0.8496 0.7991 0.8445 0.8765]\n",
            "Test  Accuracy: 0.6373, F1: [0.7387 0.5333 0.5946 0.6517]\n",
            "========================= RandomForest =========================\n",
            "Elapsed Time: 0.3999 seconds\n",
            "RandomForestClassifier()\n",
            "Train Accuracy: 0.9991, F1: [0.9983 1.     1.     0.9982]\n",
            "Test  Accuracy: 0.6891, F1: [0.7313 0.5075 0.7033 0.7447]\n",
            "========================= XGBoost =========================\n",
            "Elapsed Time: 2.4051 seconds\n",
            "XGBClassifier(objective='multi:softprob')\n",
            "Train Accuracy: 0.8059, F1: [0.8314 0.8009 0.7815 0.8058]\n",
            "Test  Accuracy: 0.6788, F1: [0.736  0.507  0.6875 0.7234]\n"
          ]
        }
      ],
      "source": [
        "fields = ['comment', \\\n",
        "      'rating', 'past', 'future', 'length_words', \\\n",
        "      'sentiScore', \\\n",
        "      #'sentiScore_pos', 'sentiScore_neg', \\\n",
        "      'label']\n",
        "\n",
        "data = DataLoader(fields, vectorizer='tfidf', ngram_range=(1,2), stopwords=False)\n",
        "X_train, X_test, y_train, y_test = data.datasets\n",
        "print(X_train.shape, X_test.shape)\n",
        "\n",
        "train_models(X_train, X_test, y_train, y_test)"
      ]
    },
    {
      "cell_type": "markdown",
      "metadata": {
        "id": "F7Xx71UBI00F"
      },
      "source": [
        "# Setting 6: NLP - stopwords + rating + tense + scaled(length) + sentiment"
      ]
    },
    {
      "cell_type": "code",
      "execution_count": 11,
      "metadata": {
        "id": "ad90rg7TJspc",
        "colab": {
          "base_uri": "https://localhost:8080/"
        },
        "outputId": "9944f73d-d729-4a9b-f807-fd52248d6200"
      },
      "outputs": [
        {
          "output_type": "stream",
          "name": "stdout",
          "text": [
            "(1092, 305) (193, 305)\n",
            "========================= LSVM =========================\n",
            "Elapsed Time: 2.9898 seconds\n",
            "LinearSVC(dual=False)\n",
            "Train Accuracy: 0.9148, F1: [0.8829 0.8514 0.9574 0.9562]\n",
            "Test  Accuracy: 0.5233, F1: [0.6281 0.4045 0.5217 0.5   ]\n",
            "========================= RandomForest =========================\n",
            "Elapsed Time: 1.186 seconds\n",
            "RandomForestClassifier()\n",
            "Train Accuracy: 0.9991, F1: [0.9983 1.     1.     0.9982]\n",
            "Test  Accuracy: 0.6269, F1: [0.6815 0.3509 0.6857 0.6517]\n",
            "========================= XGBoost =========================\n",
            "Elapsed Time: 7.4968 seconds\n",
            "XGBClassifier(objective='multi:softprob')\n",
            "Train Accuracy: 0.9799, F1: [0.9849 0.9892 0.9693 0.9774]\n",
            "Test  Accuracy: 0.6425, F1: [0.6774 0.3889 0.7083 0.7234]\n"
          ]
        }
      ],
      "source": [
        "fields = ['comment', \\\n",
        "      'rating', 'past', 'future', 'length_words', \\\n",
        "      'sentiScore', \\\n",
        "      #'sentiScore_pos', 'sentiScore_neg', \\\n",
        "      'label']\n",
        "\n",
        "data = DataLoader(fields, vectorizer='nlp', stopwords=False)\n",
        "X_train, X_test, y_train, y_test = data.datasets\n",
        "print(X_train.shape, X_test.shape)\n",
        "\n",
        "train_models(X_train, X_test, y_train, y_test)"
      ]
    },
    {
      "cell_type": "markdown",
      "source": [
        "# Setting 7: BOW + stopwords + rating + tense + scaled(length) + sentiment"
      ],
      "metadata": {
        "id": "BvHce2NXRqAn"
      }
    },
    {
      "cell_type": "code",
      "source": [
        "fields = ['comment', \\\n",
        "      'rating', 'past', 'future', 'length_words', \\\n",
        "      'sentiScore', \\\n",
        "      #'sentiScore_pos', 'sentiScore_neg', \\\n",
        "      'label']\n",
        "\n",
        "data = DataLoader(fields, vectorizer='tfidf', ngram_range=(1,1), stopwords=True)\n",
        "X_train, X_test, y_train, y_test = data.datasets\n",
        "print(X_train.shape, X_test.shape)\n",
        "\n",
        "train_models(X_train, X_test, y_train, y_test)"
      ],
      "metadata": {
        "colab": {
          "base_uri": "https://localhost:8080/"
        },
        "id": "yKjEieIrRs2-",
        "outputId": "051d28f0-86d5-456b-bc82-741ad70fce9f"
      },
      "execution_count": 12,
      "outputs": [
        {
          "output_type": "stream",
          "name": "stdout",
          "text": [
            "(1092, 305) (193, 305)\n",
            "========================= LSVM =========================\n",
            "Elapsed Time: 0.0389 seconds\n",
            "LinearSVC(dual=False)\n",
            "Train Accuracy: 0.8526, F1: [0.8571 0.8065 0.8577 0.8769]\n",
            "Test  Accuracy: 0.6736, F1: [0.7227 0.6234 0.6337 0.6966]\n",
            "========================= RandomForest =========================\n",
            "Elapsed Time: 0.4057 seconds\n",
            "RandomForestClassifier()\n",
            "Train Accuracy: 0.9982, F1: [0.9983 1.     0.9982 0.9965]\n",
            "Test  Accuracy: 0.6736, F1: [0.7206 0.4516 0.6882 0.7368]\n",
            "========================= XGBoost =========================\n",
            "Elapsed Time: 2.7883 seconds\n",
            "XGBClassifier(objective='multi:softprob')\n",
            "Train Accuracy: 0.8581, F1: [0.8829 0.8558 0.8266 0.8633]\n",
            "Test  Accuracy: 0.6684, F1: [0.7213 0.5135 0.6735 0.7174]\n"
          ]
        }
      ]
    },
    {
      "cell_type": "markdown",
      "metadata": {
        "id": "8V9Bf02OJ4Wt"
      },
      "source": [
        "# Setting 8: BOW + bigram + stopwords + rating + tense + scaled(length) + sentiment"
      ]
    },
    {
      "cell_type": "code",
      "execution_count": 13,
      "metadata": {
        "id": "CLUQ8mEQKC67",
        "colab": {
          "base_uri": "https://localhost:8080/"
        },
        "outputId": "390bb413-2c15-41de-a2e1-09266ae460c0"
      },
      "outputs": [
        {
          "output_type": "stream",
          "name": "stdout",
          "text": [
            "(1092, 305) (193, 305)\n",
            "========================= LSVM =========================\n",
            "Elapsed Time: 0.0481 seconds\n",
            "LinearSVC(dual=False)\n",
            "Train Accuracy: 0.8553, F1: [0.88   0.8081 0.8478 0.8727]\n",
            "Test  Accuracy: 0.7047, F1: [0.7213 0.641  0.6939 0.75  ]\n",
            "========================= RandomForest =========================\n",
            "Elapsed Time: 0.4057 seconds\n",
            "RandomForestClassifier()\n",
            "Train Accuracy: 0.9982, F1: [0.9983 1.     0.9982 0.9965]\n",
            "Test  Accuracy: 0.6839, F1: [0.7206 0.5588 0.6593 0.7473]\n",
            "========================= XGBoost =========================\n",
            "Elapsed Time: 2.6448 seconds\n",
            "XGBClassifier(objective='multi:softprob')\n",
            "Train Accuracy: 0.8462, F1: [0.8792 0.8604 0.8074 0.838 ]\n",
            "Test  Accuracy: 0.6788, F1: [0.6992 0.5479 0.6869 0.7473]\n"
          ]
        }
      ],
      "source": [
        "fields = ['comment', \\\n",
        "      'rating', 'past', 'future', 'length_words', \\\n",
        "      'sentiScore', \\\n",
        "      #'sentiScore_pos', 'sentiScore_neg', \\\n",
        "      'label']\n",
        "\n",
        "data = DataLoader(fields, vectorizer='tfidf', ngram_range=(1,2), stopwords=True)\n",
        "X_train, X_test, y_train, y_test = data.datasets\n",
        "print(X_train.shape, X_test.shape)\n",
        "\n",
        "train_models(X_train, X_test, y_train, y_test)"
      ]
    },
    {
      "cell_type": "markdown",
      "metadata": {
        "id": "HRmO9sSkKKRt"
      },
      "source": [
        "# Setting 9: NLP + stopwords + rating + tense + scaled(length) + sentiment"
      ]
    },
    {
      "cell_type": "code",
      "execution_count": 14,
      "metadata": {
        "id": "sKuzdEQAKYBG",
        "colab": {
          "base_uri": "https://localhost:8080/"
        },
        "outputId": "254f6e41-8783-4c7b-cb7a-e90cb1b8a3f5"
      },
      "outputs": [
        {
          "output_type": "stream",
          "name": "stdout",
          "text": [
            "(1092, 305) (193, 305)\n",
            "========================= LSVM =========================\n",
            "Elapsed Time: 4.2406 seconds\n",
            "LinearSVC(dual=False)\n",
            "Train Accuracy: 0.891, F1: [0.8756 0.8341 0.9179 0.9252]\n",
            "Test  Accuracy: 0.5699, F1: [0.656  0.5116 0.5161 0.561 ]\n",
            "========================= RandomForest =========================\n",
            "Elapsed Time: 1.2046 seconds\n",
            "RandomForestClassifier()\n",
            "Train Accuracy: 0.9991, F1: [0.9983 1.     1.     0.9982]\n",
            "Test  Accuracy: 0.6166, F1: [0.6308 0.3279 0.7327 0.6596]\n",
            "========================= XGBoost =========================\n",
            "Elapsed Time: 7.5156 seconds\n",
            "XGBClassifier(objective='multi:softprob')\n",
            "Train Accuracy: 0.9734, F1: [0.975  0.9666 0.9802 0.9706]\n",
            "Test  Accuracy: 0.6166, F1: [0.6341 0.4    0.68   0.6882]\n"
          ]
        }
      ],
      "source": [
        "fields = ['comment', \\\n",
        "      'rating', 'past', 'future', 'length_words', \\\n",
        "      'sentiScore', \\\n",
        "      #'sentiScore_pos', 'sentiScore_neg', \\\n",
        "      'label']\n",
        "\n",
        "data = DataLoader(fields, vectorizer='nlp', stopwords=True)\n",
        "X_train, X_test, y_train, y_test = data.datasets\n",
        "print(X_train.shape, X_test.shape)\n",
        "\n",
        "train_models(X_train, X_test, y_train, y_test)"
      ]
    }
  ],
  "metadata": {
    "accelerator": "GPU",
    "colab": {
      "provenance": [],
      "authorship_tag": "ABX9TyP3erT1uJqpmJbUjJaGZ8+p",
      "include_colab_link": true
    },
    "gpuClass": "standard",
    "kernelspec": {
      "display_name": "Python 3",
      "name": "python3"
    },
    "language_info": {
      "name": "python"
    }
  },
  "nbformat": 4,
  "nbformat_minor": 0
}