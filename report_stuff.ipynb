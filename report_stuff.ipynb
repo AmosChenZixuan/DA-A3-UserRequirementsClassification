{
 "cells": [
  {
   "cell_type": "code",
   "execution_count": null,
   "metadata": {},
   "outputs": [],
   "source": [
    "\n",
    "#Twice in rating , conflict lable\n",
    "\"Discrasefull\\tThey make us uninstall just to charge us 1.99 when you can download or free I would of never used it again but my online job is through teamspeak and I'm always on the move ducking bankers honestly\""
   ]
  }
 ],
 "metadata": {
  "language_info": {
   "name": "python"
  },
  "orig_nbformat": 4
 },
 "nbformat": 4,
 "nbformat_minor": 2
}
